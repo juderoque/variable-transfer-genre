{
 "cells": [
  {
   "cell_type": "markdown",
   "metadata": {},
   "source": [
    "# Model Analysis"
   ]
  },
  {
   "cell_type": "code",
   "execution_count": 1,
   "metadata": {},
   "outputs": [],
   "source": [
    "import numpy as np\n",
    "import os\n",
    "os.chdir('genre_classification_289a/src')\n",
    "from analysis_utils import load_available_f1s, load_available_loss_histories"
   ]
  },
  {
   "cell_type": "code",
   "execution_count": 2,
   "metadata": {},
   "outputs": [],
   "source": [
    "# set possible file attrs\n",
    "dataset_name = \"fma_medium\"\n",
    "possible_targets = [\"subgenres\", \"mfcc\", \"genre\"]\n",
    "possible_layers = [7,6,5,4]"
   ]
  },
  {
   "cell_type": "markdown",
   "metadata": {},
   "source": [
    "## Table of F1 (micro) Performance"
   ]
  },
  {
   "cell_type": "code",
   "execution_count": 3,
   "metadata": {},
   "outputs": [
    {
     "name": "stdout",
     "output_type": "stream",
     "text": [
      "{'targets': ['subgenres'], 'layer': 7, 'f1': array([0.86016313])}\n",
      "{'targets': ['subgenres', 'mfcc', 'genre'], 'layer': 7, 'f1': array([0.97473573])}\n",
      "{'targets': ['subgenres', 'mfcc', 'genre'], 'layer': 6, 'f1': array([0.96113189])}\n",
      "{'targets': ['subgenres', 'mfcc', 'genre'], 'layer': 5, 'f1': array([0.79049498])}\n",
      "{'targets': ['subgenres', 'mfcc', 'genre'], 'layer': 4, 'f1': array([0.67209446])}\n"
     ]
    }
   ],
   "source": [
    "mlp_f1s = load_available_f1s(dataset_name, possible_targets, possible_layers)\n",
    "\n",
    "for f1 in mlp_f1s:\n",
    "    print(f1)"
   ]
  },
  {
   "cell_type": "markdown",
   "metadata": {},
   "source": [
    "## Plots of Losses"
   ]
  },
  {
   "cell_type": "code",
   "execution_count": null,
   "metadata": {},
   "outputs": [
    {
     "ename": "NameError",
     "evalue": "name 'mlp_loss_histories' is not defined",
     "output_type": "error",
     "traceback": [
      "\u001b[0;31m---------------------------------------------------------------------------\u001b[0m",
      "\u001b[0;31mNameError\u001b[0m                                 Traceback (most recent call last)",
      "\u001b[0;32m<ipython-input-4-3d05ce44cbef>\u001b[0m in \u001b[0;36m<module>\u001b[0;34m\u001b[0m\n\u001b[1;32m      1\u001b[0m \u001b[0mmlp_losses_histories\u001b[0m \u001b[0;34m=\u001b[0m \u001b[0mload_available_loss_histories\u001b[0m\u001b[0;34m(\u001b[0m\u001b[0mdataset_name\u001b[0m\u001b[0;34m,\u001b[0m \u001b[0mpossible_targets\u001b[0m\u001b[0;34m,\u001b[0m \u001b[0mpossible_layers\u001b[0m\u001b[0;34m)\u001b[0m\u001b[0;34m\u001b[0m\u001b[0;34m\u001b[0m\u001b[0m\n\u001b[1;32m      2\u001b[0m \u001b[0;34m\u001b[0m\u001b[0m\n\u001b[0;32m----> 3\u001b[0;31m \u001b[0;32mfor\u001b[0m \u001b[0mmlp_loss_history\u001b[0m \u001b[0;32min\u001b[0m \u001b[0mmlp_loss_histories\u001b[0m\u001b[0;34m:\u001b[0m\u001b[0;34m\u001b[0m\u001b[0;34m\u001b[0m\u001b[0m\n\u001b[0m\u001b[1;32m      4\u001b[0m     \u001b[0mprint\u001b[0m\u001b[0;34m(\u001b[0m\u001b[0mmlp_loss_history\u001b[0m\u001b[0;34m)\u001b[0m\u001b[0;34m\u001b[0m\u001b[0;34m\u001b[0m\u001b[0m\n",
      "\u001b[0;31mNameError\u001b[0m: name 'mlp_loss_histories' is not defined"
     ]
    }
   ],
   "source": [
    "mlp_losses_histories = load_available_loss_histories(dataset_name, possible_targets, possible_layers)\n",
    "\n",
    "for mlp_loss_history in mlp_loss_histories:\n",
    "    print(mlp_loss_history)"
   ]
  }
 ],
 "metadata": {
  "environment": {
   "name": "pytorch-gpu.1-4.m46",
   "type": "gcloud",
   "uri": "gcr.io/deeplearning-platform-release/pytorch-gpu.1-4:m46"
  },
  "kernelspec": {
   "display_name": "Python 3",
   "language": "python",
   "name": "python3"
  },
  "language_info": {
   "codemirror_mode": {
    "name": "ipython",
    "version": 3
   },
   "file_extension": ".py",
   "mimetype": "text/x-python",
   "name": "python",
   "nbconvert_exporter": "python",
   "pygments_lexer": "ipython3",
   "version": "3.7.6"
  }
 },
 "nbformat": 4,
 "nbformat_minor": 4
}
