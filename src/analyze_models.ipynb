{
 "cells": [
  {
   "cell_type": "markdown",
   "metadata": {},
   "source": [
    "# Model Analysis"
   ]
  },
  {
   "cell_type": "markdown",
   "metadata": {},
   "source": [
    "## Table of F1 (micro) Performance"
   ]
  },
  {
   "cell_type": "code",
   "execution_count": 1,
   "metadata": {},
   "outputs": [],
   "source": [
    "import numpy as np\n",
    "import os\n",
    "os.chdir('genre_classification_289a/src')\n",
    "from analysis_utils import load_available_f1s, load_available_losses"
   ]
  },
  {
   "cell_type": "code",
   "execution_count": 2,
   "metadata": {},
   "outputs": [
    {
     "name": "stdout",
     "output_type": "stream",
     "text": [
      "{'targets': ['subgenres'], 'layer': 7, 'f1': array([0.86016313])}\n",
      "{'targets': ['subgenres', 'mfcc', 'genre'], 'layer': 7, 'f1': array([0.97473573])}\n",
      "{'targets': ['subgenres', 'mfcc', 'genre'], 'layer': 6, 'f1': array([0.96113189])}\n",
      "{'targets': ['subgenres', 'mfcc', 'genre'], 'layer': 5, 'f1': array([0.79049498])}\n",
      "{'targets': ['subgenres', 'mfcc', 'genre'], 'layer': 4, 'f1': array([0.67209446])}\n"
     ]
    }
   ],
   "source": [
    "# set possible file attrs\n",
    "dataset_name = \"fma_medium\"\n",
    "possible_targets = [\"subgenres\", \"mfcc\", \"genre\"]\n",
    "possible_layers = [7,6,5,4]\n",
    "            \n",
    "f1s = load_available_f1s(dataset_name, possible_targets, possible_layers)\n",
    "\n",
    "for f1 in f1s:\n",
    "    print(f1)"
   ]
  },
  {
   "cell_type": "code",
   "execution_count": null,
   "metadata": {},
   "outputs": [],
   "source": []
  }
 ],
 "metadata": {
  "environment": {
   "name": "pytorch-gpu.1-4.m46",
   "type": "gcloud",
   "uri": "gcr.io/deeplearning-platform-release/pytorch-gpu.1-4:m46"
  },
  "kernelspec": {
   "display_name": "Python 3",
   "language": "python",
   "name": "python3"
  },
  "language_info": {
   "codemirror_mode": {
    "name": "ipython",
    "version": 3
   },
   "file_extension": ".py",
   "mimetype": "text/x-python",
   "name": "python",
   "nbconvert_exporter": "python",
   "pygments_lexer": "ipython3",
   "version": "3.7.6"
  }
 },
 "nbformat": 4,
 "nbformat_minor": 4
}
