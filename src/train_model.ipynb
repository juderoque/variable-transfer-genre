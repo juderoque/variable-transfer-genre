{
 "cells": [
  {
   "cell_type": "markdown",
   "metadata": {},
   "source": [
    "# Training Module"
   ]
  },
  {
   "cell_type": "code",
   "execution_count": 1,
   "metadata": {},
   "outputs": [],
   "source": [
    "import os\n",
    "os.chdir('genre_classification_289a/src')"
   ]
  },
  {
   "cell_type": "code",
   "execution_count": 2,
   "metadata": {},
   "outputs": [],
   "source": [
    "import torch\n",
    "import torch.nn as nn\n",
    "import os\n",
    "from model import STN, MLP\n",
    "import torch.optim as optim"
   ]
  },
  {
   "cell_type": "code",
   "execution_count": 3,
   "metadata": {},
   "outputs": [
    {
     "name": "stdout",
     "output_type": "stream",
     "text": [
      "cuda:0\n"
     ]
    }
   ],
   "source": [
    "device = torch.device(\"cuda:0\" if torch.cuda.is_available() else \"cpu\")\n",
    "print(device)"
   ]
  },
  {
   "cell_type": "code",
   "execution_count": 4,
   "metadata": {},
   "outputs": [],
   "source": [
    "from features import get_data_loaders, FramedFeatureDataset, FeatureDataset, DatasetSettings"
   ]
  },
  {
   "cell_type": "markdown",
   "metadata": {},
   "source": [
    "### DCNN Training"
   ]
  },
  {
   "cell_type": "code",
   "execution_count": 5,
   "metadata": {},
   "outputs": [
    {
     "name": "stdout",
     "output_type": "stream",
     "text": [
      "Training STN target: Genre\n"
     ]
    }
   ],
   "source": [
    "#STN targets\n",
    "agfs = [] #'subgenre', 'mfcc'\n",
    "genre = True #False if not genre STN\n",
    "\n",
    "target = None\n",
    "\n",
    "if (genre and len(agfs) > 0) or (len(agfs) > 0):\n",
    "    raise 'Error: can only train one STN target at a time'\n",
    "elif genre:\n",
    "    target = 'genre'\n",
    "elif len(agfs) == 1:\n",
    "    target = agfs[0]\n",
    "else:\n",
    "    raise 'Error: could not parse training target'\n",
    "\n",
    "print('Training STN target: {}'.format(target))\n",
    "    \n",
    "#dataset\n",
    "dataset_name = 'fma_small'"
   ]
  },
  {
   "cell_type": "code",
   "execution_count": 6,
   "metadata": {},
   "outputs": [
    {
     "name": "stdout",
     "output_type": "stream",
     "text": [
      "Num genres:  8\n",
      "Pop              1000\n",
      "International    1000\n",
      "Instrumental     1000\n",
      "Folk             1000\n",
      "Rock              999\n",
      "Experimental      999\n",
      "Electronic        999\n",
      "Hip-Hop           997\n",
      "Name: genre_top, dtype: int64\n"
     ]
    }
   ],
   "source": [
    "settings = DatasetSettings(dataset_name, 'fma_metadata')\n",
    "dataset = FramedFeatureDataset(settings,  agfs=agfs, genre=genre)\n",
    "print(\"Num genres: \", settings.num_genres)\n",
    "print(settings.genre_counts)"
   ]
  },
  {
   "cell_type": "code",
   "execution_count": 7,
   "metadata": {},
   "outputs": [],
   "source": [
    "output_size = settings.num_genres\n",
    "stn = STN(output_size)\n",
    "stn.to(device)\n",
    "stn = nn.DataParallel(stn)"
   ]
  },
  {
   "cell_type": "code",
   "execution_count": 8,
   "metadata": {},
   "outputs": [],
   "source": [
    "## Training Parameters\n",
    "criterion = nn.CrossEntropyLoss()\n",
    "optimizer = optim.Adam(stn.parameters(), lr=0.001)\n",
    "epochs = 30\n",
    "batch_size = 64\n",
    "valid_split = 0.2"
   ]
  },
  {
   "cell_type": "code",
   "execution_count": 9,
   "metadata": {},
   "outputs": [],
   "source": [
    "trainloader, validloader = get_data_loaders(dataset, batch_size, valid_split)"
   ]
  },
  {
   "cell_type": "code",
   "execution_count": 10,
   "metadata": {},
   "outputs": [],
   "source": [
    "import torch.nn.functional as F\n",
    "from sklearn.metrics import f1_score\n",
    "\n",
    "def validate(stn, label_name):\n",
    "    \n",
    "    with torch.no_grad():\n",
    "        stn.eval()\n",
    "        \n",
    "        all_pred = []\n",
    "        all_true = []\n",
    "        \n",
    "        for i, data in enumerate(validloader, 0):\n",
    "            inputs, labels = data[0].to(device), data[1][label_name].to(device)\n",
    "            \n",
    "            out = stn(inputs)\n",
    "            loss = F.cross_entropy(out, labels)\n",
    "            \n",
    "            all_pred.append(out.argmax(dim=1))\n",
    "            all_true.append(labels)\n",
    "            \n",
    "        all_pred = torch.cat(all_pred)\n",
    "        all_true = torch.cat(all_true)\n",
    "        \n",
    "        curr_f1 = f1_score(all_true.cpu(), all_pred.cpu(), average='micro')\n",
    "        \n",
    "        print('Validation f1 score: {}'.format(curr_f1))"
   ]
  },
  {
   "cell_type": "code",
   "execution_count": null,
   "metadata": {},
   "outputs": [
    {
     "name": "stdout",
     "output_type": "stream",
     "text": [
      "Starting epoch 1\n",
      "[1,    50] loss: 3.094\n",
      "[1,   100] loss: 2.833\n",
      "[1,   150] loss: 2.625\n",
      "[1,   200] loss: 2.513\n",
      "[1,   250] loss: 2.495\n",
      "[1,   300] loss: 2.404\n",
      "[1,   350] loss: 2.383\n",
      "[1,   400] loss: 2.371\n",
      "[1,   450] loss: 2.312\n",
      "[1,   500] loss: 2.233\n",
      "[1,   550] loss: 2.233\n",
      "[1,   600] loss: 2.272\n",
      "[1,   650] loss: 2.246\n",
      "[1,   700] loss: 2.193\n",
      "Starting epoch 2\n",
      "[2,    50] loss: 2.182\n",
      "[2,   100] loss: 2.166\n",
      "[2,   150] loss: 2.104\n",
      "[2,   200] loss: 2.071\n",
      "[2,   250] loss: 2.077\n",
      "[2,   300] loss: 2.051\n",
      "[2,   350] loss: 2.062\n",
      "[2,   400] loss: 2.073\n",
      "[2,   450] loss: 2.027\n",
      "[2,   500] loss: 2.021\n",
      "[2,   550] loss: 1.971\n",
      "[2,   600] loss: 2.034\n",
      "[2,   650] loss: 1.967\n",
      "[2,   700] loss: 1.973\n",
      "Starting epoch 3\n",
      "[3,    50] loss: 1.968\n",
      "[3,   100] loss: 1.934\n",
      "[3,   150] loss: 1.886\n",
      "[3,   200] loss: 1.842\n",
      "[3,   250] loss: 1.880\n",
      "[3,   300] loss: 1.947\n",
      "[3,   350] loss: 1.837\n",
      "[3,   400] loss: 1.874\n",
      "[3,   450] loss: 1.837\n",
      "[3,   500] loss: 1.866\n",
      "[3,   550] loss: 1.860\n",
      "[3,   600] loss: 1.842\n",
      "[3,   650] loss: 1.854\n",
      "[3,   700] loss: 1.775\n",
      "Starting epoch 4\n",
      "[4,    50] loss: 1.834\n",
      "[4,   100] loss: 1.769\n",
      "[4,   150] loss: 1.762\n",
      "[4,   200] loss: 1.746\n",
      "[4,   250] loss: 1.746\n",
      "[4,   300] loss: 1.716\n",
      "[4,   350] loss: 1.715\n",
      "[4,   400] loss: 1.680\n",
      "[4,   450] loss: 1.667\n",
      "[4,   500] loss: 1.704\n",
      "[4,   550] loss: 1.695\n"
     ]
    }
   ],
   "source": [
    "#Train it\n",
    "for epoch in range(epochs):  # loop over the dataset multiple times\n",
    "    \n",
    "    print('Starting epoch', epoch + 1)\n",
    "    \n",
    "    running_loss = 0.0\n",
    "    for i, data in enumerate(trainloader, 0):\n",
    "        # get the inputs\n",
    "        inputs, labels = data[0].to(device), data[1]['genre'].to(device)  #data[1]['{argument for agf being trained}']\n",
    "        \n",
    "        # zero the parameter gradients\n",
    "        optimizer.zero_grad()\n",
    "\n",
    "        # forward + backward + optimize\n",
    "        outputs = stn(inputs)\n",
    "        \n",
    "        loss = criterion(outputs, labels)\n",
    "        loss.backward()\n",
    "        optimizer.step()\n",
    "        \n",
    "\n",
    "        # print statistics\n",
    "        running_loss += loss.item()\n",
    "        if i % 50 == 49:    # print every 30 mini-batches\n",
    "            print('[%d, %5d] loss: %.3f' %\n",
    "                  (epoch + 1, i + 1, running_loss / 30))\n",
    "            running_loss = 0.0\n",
    "            \n",
    "    if epoch % 5 == 4:\n",
    "        validate(stn, 'genre')\n",
    "        stn.train()\n",
    "\n",
    "print('Finished Training')"
   ]
  },
  {
   "cell_type": "markdown",
   "metadata": {},
   "source": [
    "### Save Model"
   ]
  },
  {
   "cell_type": "code",
   "execution_count": null,
   "metadata": {},
   "outputs": [],
   "source": [
    "model_file = '../models/DCNN_{}_{}'.format(dataset_name, target)\n",
    "torch.save(stn, model_file)"
   ]
  },
  {
   "cell_type": "markdown",
   "metadata": {},
   "source": [
    "## Load & Eval Model"
   ]
  },
  {
   "cell_type": "code",
   "execution_count": 12,
   "metadata": {},
   "outputs": [
    {
     "data": {
      "text/plain": [
       "DataParallel(\n",
       "  (module): STN(\n",
       "    (layer1): Sequential(\n",
       "      (0): Conv2d(1, 16, kernel_size=(5, 5), stride=(1, 1), padding=(2, 2))\n",
       "      (1): ELU(alpha=1.0)\n",
       "      (2): MaxPool2d(kernel_size=(2, 1), stride=(2, 1), padding=0, dilation=1, ceil_mode=False)\n",
       "    )\n",
       "    (layer2): Sequential(\n",
       "      (0): Conv2d(16, 32, kernel_size=(3, 3), stride=(1, 1), padding=(1, 1))\n",
       "      (1): BatchNorm2d(32, eps=1e-05, momentum=0.1, affine=True, track_running_stats=True)\n",
       "      (2): ELU(alpha=1.0)\n",
       "      (3): MaxPool2d(kernel_size=(2, 2), stride=(2, 2), padding=0, dilation=1, ceil_mode=False)\n",
       "      (4): Dropout(p=0.1, inplace=False)\n",
       "    )\n",
       "    (layer3): Sequential(\n",
       "      (0): Conv2d(32, 64, kernel_size=(3, 3), stride=(1, 1), padding=(1, 1))\n",
       "      (1): ELU(alpha=1.0)\n",
       "      (2): MaxPool2d(kernel_size=(2, 2), stride=(2, 2), padding=0, dilation=1, ceil_mode=False)\n",
       "    )\n",
       "    (layer4): Sequential(\n",
       "      (0): Conv2d(64, 64, kernel_size=(3, 3), stride=(1, 1), padding=(1, 1))\n",
       "      (1): BatchNorm2d(64, eps=1e-05, momentum=0.1, affine=True, track_running_stats=True)\n",
       "      (2): ELU(alpha=1.0)\n",
       "      (3): MaxPool2d(kernel_size=(2, 2), stride=(2, 2), padding=0, dilation=1, ceil_mode=False)\n",
       "      (4): Dropout(p=0.1, inplace=False)\n",
       "    )\n",
       "    (layer5): Sequential(\n",
       "      (0): Conv2d(64, 128, kernel_size=(3, 3), stride=(1, 1), padding=(1, 1))\n",
       "      (1): ELU(alpha=1.0)\n",
       "      (2): MaxPool2d(kernel_size=(2, 2), stride=(2, 2), padding=0, dilation=1, ceil_mode=False)\n",
       "    )\n",
       "    (layer6): Sequential(\n",
       "      (0): Conv2d(128, 256, kernel_size=(3, 3), stride=(1, 1), padding=(1, 1))\n",
       "      (1): ELU(alpha=1.0)\n",
       "    )\n",
       "    (layer7): Sequential(\n",
       "      (0): Conv2d(256, 256, kernel_size=(1, 1), stride=(1, 1))\n",
       "      (1): BatchNorm2d(256, eps=1e-05, momentum=0.1, affine=True, track_running_stats=True)\n",
       "      (2): ELU(alpha=1.0)\n",
       "    )\n",
       "    (global_avg_pool): Sequential(\n",
       "      (0): GlobalAvgPool(\n",
       "        (layer): Sequential(\n",
       "          (0): AdaptiveAvgPool2d(output_size=(1, 1))\n",
       "          (1): Flatten()\n",
       "        )\n",
       "      )\n",
       "      (1): BatchNorm1d(256, eps=1e-05, momentum=0.1, affine=True, track_running_stats=True)\n",
       "    )\n",
       "    (densefc): Sequential(\n",
       "      (0): Linear(in_features=256, out_features=256, bias=True)\n",
       "      (1): BatchNorm1d(256, eps=1e-05, momentum=0.1, affine=True, track_running_stats=True)\n",
       "      (2): ELU(alpha=1.0)\n",
       "      (3): Dropout(p=0.5, inplace=False)\n",
       "    )\n",
       "    (output_layer): Sequential(\n",
       "      (0): Linear(in_features=256, out_features=8, bias=True)\n",
       "    )\n",
       "  )\n",
       ")"
      ]
     },
     "execution_count": 12,
     "metadata": {},
     "output_type": "execute_result"
    }
   ],
   "source": [
    "model_file = '../models/DCNN_{}_{}'.format(dataset_name, target)\n",
    "model = torch.load(model_file)\n",
    "model"
   ]
  },
  {
   "cell_type": "code",
   "execution_count": 13,
   "metadata": {},
   "outputs": [
    {
     "name": "stdout",
     "output_type": "stream",
     "text": [
      "Validation f1 score: 0.9662228576534715\n"
     ]
    }
   ],
   "source": [
    "validate(model, target)"
   ]
  },
  {
   "cell_type": "markdown",
   "metadata": {},
   "source": [
    "## Previous STN Val Accuracies\n",
    "FMA_SMALL\n",
    "* genre: 89.X% (can't reload model to validate b/c didn't set a random seed during training and the random split of training / validation data is different so we're mixing training data into the validation set and getting  unrealistically high validation accuracies)\n",
    "\n",
    "FMA_MED\n",
    "* genre: 89.3%\n"
   ]
  },
  {
   "cell_type": "code",
   "execution_count": null,
   "metadata": {},
   "outputs": [],
   "source": []
  }
 ],
 "metadata": {
  "environment": {
   "name": "pytorch-gpu.1-4.m46",
   "type": "gcloud",
   "uri": "gcr.io/deeplearning-platform-release/pytorch-gpu.1-4:m46"
  },
  "kernelspec": {
   "display_name": "Python 3",
   "language": "python",
   "name": "python3"
  },
  "language_info": {
   "codemirror_mode": {
    "name": "ipython",
    "version": 3
   },
   "file_extension": ".py",
   "mimetype": "text/x-python",
   "name": "python",
   "nbconvert_exporter": "python",
   "pygments_lexer": "ipython3",
   "version": "3.7.6"
  }
 },
 "nbformat": 4,
 "nbformat_minor": 4
}
